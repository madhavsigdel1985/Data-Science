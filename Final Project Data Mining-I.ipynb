{
 "cells": [
  {
   "cell_type": "markdown",
   "metadata": {},
   "source": [
    "# Predicting Earthquake Damage\n",
    "### Data Mining I- Fall 2019\n",
    "### Madhav Sigdel\n",
    "### Data Mining I Summary\n",
    "\n",
    "\n",
    "In this project, I use the Random Forest model to analyzed the dummy variables has_superstructure_adobe_mud, has_superstructure_mud_mortar_stone, has_superstructure_stone_flag, has_superstructure_cement_mortar_stone, has_superstructure_mud_mortar_brick, has_superstructure_cement_mortar_brick,has_superstructure_timber, has_superstructure_bamboo, has_superstructure_rc_non_engineered,  has_superstructure_rc_engineered, and has_superstructure_other.   \n",
    "\n",
    "I include the one variable at a time in the Random Forest model and record the micro f-1 score for every case. I find the not very different results when add the dummy variables to our model. The base model for comparison the f1 score which with all of the variables included in the model give f-1 score of 0.7313. I then drop has_superstructure_#### variable one at a time and see how the model score decrease. I find that the model score do not change by a lot when dropping this dummy variables. The f-1 score stay about the same range 0.73. I conclude that the dummy variables has_structure_##### is not very statistically significant in the model. Maybe next we should combine many has_structure_#### variables to group all structures by mud or something. I will try in my Random Forest model.\n",
    "\n",
    "I also run same analysis to find the importance of the continuous variables. geo_level_id's 1,2,3 are important, because f-1 score decrease by the lot when we drop these variables (used as continuous becuase of Bishwas suggest). \n",
    "\n",
    "I also run other models like KNN. In future, I do feature engineering and hyperparameter tuning in this model to improve the performance of the model. "
   ]
  },
  {
   "cell_type": "markdown",
   "metadata": {},
   "source": [
    "### Results from Random Forest models(for categorical variables)\n",
    "1. 'has_superstructure_adobe_mud'---------------f1 score: 0.7248983141899669\n",
    "2. 'has_superstructure_stone_flag'-----------------f1 score: 0.7270215650661278\n",
    "3. ' has_superstructure_cement_mortar_ston'----f1 score: 0.7228773886572357\n",
    "4. 'has_superstructure_mud_mortar_brick'-------f1 score: 0.726535519684838\n",
    "5. ' has_superstructure_cement_mortar_brick'---f1 score: 0.726893658386841\n",
    "\n",
    "6. 'has_superstructure_timber'---------------------f1 score: 0.726689007699982\n",
    "7. 'has_superstructure_bamboo'------------------f1 score: 0.7285820265534266\n",
    "8. 'has_superstructure_rc_non_engineered'------f1 score: 0.7232866900309535\n",
    "9. 'has_superstructure_rc_engineered'------------f1 score: 0.7255634289222583\n",
    "10. 'has_superstructure_other'----------------------f1 score: 0.7254866849146863\n",
    "\n",
    "11. 'has_secondary_use'-----------------------------f1 score: 0.7256657542656879\n",
    "12. 'has_superstructure_mud_mortar_stone-------f1 score: 0.7273285410964161\n",
    "\n",
    "\n"
   ]
  },
  {
   "cell_type": "markdown",
   "metadata": {},
   "source": [
    "## For continous variables\n",
    "We also analyzed the moddel on continous vairables 'geo_level_1_id','geo_level_2_id', 'geo_level_3_id',\n",
    "'count_floors_pre_eq', 'age','area_percentage', 'height_percentage','count_families'.\n",
    "\n",
    "\n",
    "We get following results geo level Id.\n",
    "\n",
    "1. For.  Geo level_1--------f1 score: 0.7141029904581617\n",
    "2. For.  Geo level_2--------f1 score: 0.7175053081271904\n",
    "3. For.  Geo level_3.  ID---f1 score: 0.7096262566831238\n",
    "\n",
    "\n",
    "When we drop 'area_percentage', 'height_percentage','count_families'one by one we get\n",
    "we get following result.\n",
    "\n",
    "1. When we drop, area_pecentage-----f1 score: 0.7318052748714537\n",
    "2. When we drop, 'height_percentage--f1 score: 0.7287355145685708\n",
    "3. When we drop 'count_families---f1 score: 0.7309099281164463\n",
    "\n"
   ]
  },
  {
   "cell_type": "markdown",
   "metadata": {},
   "source": [
    "## For Target Variables\n",
    "We put damage_gradde_1 and damaga_grade_2 in one bin and damage_grade_3 in another bin and we see that accuracy score go up by significant percentage.\n",
    "1. damage_grade_3 vs other(1 and 2 in one bin)r------ f1 score: 0.8001841856181731\n",
    "2. damage_grade_1 vs other(3 and 2 in one bin)------f1 score: 0.9254559873116575"
   ]
  },
  {
   "cell_type": "markdown",
   "metadata": {},
   "source": [
    "\n",
    "## Madhav Sigdel\n",
    "### Data Mining I- Fall 2019\n",
    "\n",
    "This notebook is written for a machine learning competition hosted by Driven Data, named 'Richter's Predictor: Modeling Earthquake Damage'. The goal is to accurately predict the level of damage to buildings caused by the Nepal 2015 earthquake based on aspects of building location and construction.\n",
    "\n",
    "The data was collected through surveys by the Central Bureau of Statistics that work under the National Planning Commission Secretariat of Nepal. This survey boasts one of the largest post-disaster datasets ever collected, containing valuable information on earthquake impacts, household conditions, and socio-economic-demographic statistics.\n",
    "\n",
    "Training data, training labels, and test data are provided. The goal is to develop a predictive model using the training set and the training labels (the truth). The best model so developed is then used to predict the target variable for the test set. \n",
    "\n",
    "Let's start by importing the training data. "
   ]
  },
  {
   "cell_type": "code",
   "execution_count": 34,
   "metadata": {},
   "outputs": [
    {
     "name": "stdout",
     "output_type": "stream",
     "text": [
      "<class 'pandas.core.frame.DataFrame'>\n",
      "Int64Index: 260601 entries, 802906 to 747594\n",
      "Data columns (total 38 columns):\n",
      "geo_level_1_id                            260601 non-null int64\n",
      "geo_level_2_id                            260601 non-null int64\n",
      "geo_level_3_id                            260601 non-null int64\n",
      "count_floors_pre_eq                       260601 non-null int64\n",
      "age                                       260601 non-null int64\n",
      "area_percentage                           260601 non-null int64\n",
      "height_percentage                         260601 non-null int64\n",
      "land_surface_condition                    260601 non-null object\n",
      "foundation_type                           260601 non-null object\n",
      "roof_type                                 260601 non-null object\n",
      "ground_floor_type                         260601 non-null object\n",
      "other_floor_type                          260601 non-null object\n",
      "position                                  260601 non-null object\n",
      "plan_configuration                        260601 non-null object\n",
      "has_superstructure_adobe_mud              260601 non-null int64\n",
      "has_superstructure_mud_mortar_stone       260601 non-null int64\n",
      "has_superstructure_stone_flag             260601 non-null int64\n",
      "has_superstructure_cement_mortar_stone    260601 non-null int64\n",
      "has_superstructure_mud_mortar_brick       260601 non-null int64\n",
      "has_superstructure_cement_mortar_brick    260601 non-null int64\n",
      "has_superstructure_timber                 260601 non-null int64\n",
      "has_superstructure_bamboo                 260601 non-null int64\n",
      "has_superstructure_rc_non_engineered      260601 non-null int64\n",
      "has_superstructure_rc_engineered          260601 non-null int64\n",
      "has_superstructure_other                  260601 non-null int64\n",
      "legal_ownership_status                    260601 non-null object\n",
      "count_families                            260601 non-null int64\n",
      "has_secondary_use                         260601 non-null int64\n",
      "has_secondary_use_agriculture             260601 non-null int64\n",
      "has_secondary_use_hotel                   260601 non-null int64\n",
      "has_secondary_use_rental                  260601 non-null int64\n",
      "has_secondary_use_institution             260601 non-null int64\n",
      "has_secondary_use_school                  260601 non-null int64\n",
      "has_secondary_use_industry                260601 non-null int64\n",
      "has_secondary_use_health_post             260601 non-null int64\n",
      "has_secondary_use_gov_office              260601 non-null int64\n",
      "has_secondary_use_use_police              260601 non-null int64\n",
      "has_secondary_use_other                   260601 non-null int64\n",
      "dtypes: int64(30), object(8)\n",
      "memory usage: 77.5+ MB\n",
      "<class 'pandas.core.frame.DataFrame'>\n",
      "Int64Index: 260601 entries, 802906 to 747594\n",
      "Data columns (total 1 columns):\n",
      "damage_grade    260601 non-null int64\n",
      "dtypes: int64(1)\n",
      "memory usage: 4.0 MB\n"
     ]
    },
    {
     "data": {
      "text/html": [
       "<div>\n",
       "<style scoped>\n",
       "    .dataframe tbody tr th:only-of-type {\n",
       "        vertical-align: middle;\n",
       "    }\n",
       "\n",
       "    .dataframe tbody tr th {\n",
       "        vertical-align: top;\n",
       "    }\n",
       "\n",
       "    .dataframe thead th {\n",
       "        text-align: right;\n",
       "    }\n",
       "</style>\n",
       "<table border=\"1\" class=\"dataframe\">\n",
       "  <thead>\n",
       "    <tr style=\"text-align: right;\">\n",
       "      <th></th>\n",
       "      <th>damage_grade</th>\n",
       "    </tr>\n",
       "    <tr>\n",
       "      <th>building_id</th>\n",
       "      <th></th>\n",
       "    </tr>\n",
       "  </thead>\n",
       "  <tbody>\n",
       "    <tr>\n",
       "      <td>802906</td>\n",
       "      <td>3</td>\n",
       "    </tr>\n",
       "    <tr>\n",
       "      <td>28830</td>\n",
       "      <td>2</td>\n",
       "    </tr>\n",
       "    <tr>\n",
       "      <td>94947</td>\n",
       "      <td>3</td>\n",
       "    </tr>\n",
       "    <tr>\n",
       "      <td>590882</td>\n",
       "      <td>2</td>\n",
       "    </tr>\n",
       "    <tr>\n",
       "      <td>201944</td>\n",
       "      <td>3</td>\n",
       "    </tr>\n",
       "  </tbody>\n",
       "</table>\n",
       "</div>"
      ],
      "text/plain": [
       "             damage_grade\n",
       "building_id              \n",
       "802906                  3\n",
       "28830                   2\n",
       "94947                   3\n",
       "590882                  2\n",
       "201944                  3"
      ]
     },
     "execution_count": 34,
     "metadata": {},
     "output_type": "execute_result"
    }
   ],
   "source": [
    "import numpy as np\n",
    "import pandas as pd\n",
    "# read from the training data file\n",
    "features = pd.read_csv(\"train_values.csv\", index_col = 'building_id')\n",
    "target = pd.read_csv(\"train_labels.csv\",index_col = 'building_id')\n",
    "features.info()\n",
    "target.info()\n",
    "features.head()\n",
    "#target.head()"
   ]
  },
  {
   "cell_type": "code",
   "execution_count": 33,
   "metadata": {},
   "outputs": [
    {
     "data": {
      "text/plain": [
       "2    148259\n",
       "3     87218\n",
       "1     25124\n",
       "Name: damage_grade, dtype: int64"
      ]
     },
     "execution_count": 33,
     "metadata": {},
     "output_type": "execute_result"
    },
    {
     "data": {
      "image/png": "[encoded data removed]",
      "text/plain": [
       "<Figure size 432x288 with 1 Axes>"
      ]
     },
     "metadata": {},
     "output_type": "display_data"
    }
   ],
   "source": [
    "#distribution of damage_grade using seaborn\n",
    "import seaborn as sns; sns.set()\n",
    "sns.distplot(target['damage_grade'],kde=True)\n",
    "target['damage_grade'].value_counts()\n",
    "\n"
   ]
  },
  {
   "cell_type": "markdown",
   "metadata": {},
   "source": [
    "Class frequency plot shown above tells us there is a good chance of class imbalance problem in our dataset. We will need to deal with by resampling from the original dataset. WIP! (We will deal with this later.)\n",
    "Right now, let's explore the dataset by making some plots. To visually explore the continuous features in the dataset, we can use seaborn's pairplot function. We can select the columns that we want to visualize and pairplot them using damage_grade to color code the data. "
   ]
  },
  {
   "cell_type": "code",
   "execution_count": 3,
   "metadata": {},
   "outputs": [
    {
     "name": "stdout",
     "output_type": "stream",
     "text": [
      "Correlation Matrix\n"
     ]
    },
    {
     "data": {
      "text/html": [
       "<div>\n",
       "<style scoped>\n",
       "    .dataframe tbody tr th:only-of-type {\n",
       "        vertical-align: middle;\n",
       "    }\n",
       "\n",
       "    .dataframe tbody tr th {\n",
       "        vertical-align: top;\n",
       "    }\n",
       "\n",
       "    .dataframe thead th {\n",
       "        text-align: right;\n",
       "    }\n",
       "</style>\n",
       "<table border=\"1\" class=\"dataframe\">\n",
       "  <thead>\n",
       "    <tr style=\"text-align: right;\">\n",
       "      <th></th>\n",
       "      <th>geo_level_1_id</th>\n",
       "      <th>geo_level_2_id</th>\n",
       "      <th>geo_level_3_id</th>\n",
       "      <th>count_floors_pre_eq</th>\n",
       "      <th>age</th>\n",
       "      <th>area_percentage</th>\n",
       "      <th>height_percentage</th>\n",
       "      <th>has_superstructure_adobe_mud</th>\n",
       "      <th>has_superstructure_mud_mortar_stone</th>\n",
       "      <th>has_superstructure_stone_flag</th>\n",
       "      <th>...</th>\n",
       "      <th>has_secondary_use_agriculture</th>\n",
       "      <th>has_secondary_use_hotel</th>\n",
       "      <th>has_secondary_use_rental</th>\n",
       "      <th>has_secondary_use_institution</th>\n",
       "      <th>has_secondary_use_school</th>\n",
       "      <th>has_secondary_use_industry</th>\n",
       "      <th>has_secondary_use_health_post</th>\n",
       "      <th>has_secondary_use_gov_office</th>\n",
       "      <th>has_secondary_use_use_police</th>\n",
       "      <th>has_secondary_use_other</th>\n",
       "    </tr>\n",
       "  </thead>\n",
       "  <tbody>\n",
       "    <tr>\n",
       "      <td>geo_level_1_id</td>\n",
       "      <td>1.000000</td>\n",
       "      <td>-0.061405</td>\n",
       "      <td>0.002718</td>\n",
       "      <td>-0.089364</td>\n",
       "      <td>-0.003908</td>\n",
       "      <td>0.071158</td>\n",
       "      <td>-0.063474</td>\n",
       "      <td>-0.018245</td>\n",
       "      <td>-0.152038</td>\n",
       "      <td>0.007677</td>\n",
       "      <td>...</td>\n",
       "      <td>-0.019786</td>\n",
       "      <td>0.001911</td>\n",
       "      <td>0.023523</td>\n",
       "      <td>0.003700</td>\n",
       "      <td>0.002977</td>\n",
       "      <td>0.002655</td>\n",
       "      <td>-0.002303</td>\n",
       "      <td>0.001060</td>\n",
       "      <td>0.000523</td>\n",
       "      <td>-0.017992</td>\n",
       "    </tr>\n",
       "    <tr>\n",
       "      <td>geo_level_2_id</td>\n",
       "      <td>-0.061405</td>\n",
       "      <td>1.000000</td>\n",
       "      <td>0.000921</td>\n",
       "      <td>0.047730</td>\n",
       "      <td>0.012594</td>\n",
       "      <td>-0.049443</td>\n",
       "      <td>0.035516</td>\n",
       "      <td>0.015833</td>\n",
       "      <td>0.076491</td>\n",
       "      <td>-0.008743</td>\n",
       "      <td>...</td>\n",
       "      <td>0.017522</td>\n",
       "      <td>-0.008439</td>\n",
       "      <td>-0.030704</td>\n",
       "      <td>-0.004840</td>\n",
       "      <td>-0.004856</td>\n",
       "      <td>0.000687</td>\n",
       "      <td>-0.000757</td>\n",
       "      <td>-0.000152</td>\n",
       "      <td>0.001926</td>\n",
       "      <td>-0.013068</td>\n",
       "    </tr>\n",
       "    <tr>\n",
       "      <td>geo_level_3_id</td>\n",
       "      <td>0.002718</td>\n",
       "      <td>0.000921</td>\n",
       "      <td>1.000000</td>\n",
       "      <td>-0.021646</td>\n",
       "      <td>-0.006385</td>\n",
       "      <td>-0.005643</td>\n",
       "      <td>-0.024507</td>\n",
       "      <td>-0.015732</td>\n",
       "      <td>0.026294</td>\n",
       "      <td>0.019579</td>\n",
       "      <td>...</td>\n",
       "      <td>0.015995</td>\n",
       "      <td>-0.002001</td>\n",
       "      <td>-0.007356</td>\n",
       "      <td>-0.007058</td>\n",
       "      <td>-0.004373</td>\n",
       "      <td>-0.000862</td>\n",
       "      <td>-0.002632</td>\n",
       "      <td>-0.000943</td>\n",
       "      <td>0.000269</td>\n",
       "      <td>-0.002463</td>\n",
       "    </tr>\n",
       "    <tr>\n",
       "      <td>count_floors_pre_eq</td>\n",
       "      <td>-0.089364</td>\n",
       "      <td>0.047730</td>\n",
       "      <td>-0.021646</td>\n",
       "      <td>1.000000</td>\n",
       "      <td>0.086668</td>\n",
       "      <td>0.101071</td>\n",
       "      <td>0.772734</td>\n",
       "      <td>0.174852</td>\n",
       "      <td>-0.027116</td>\n",
       "      <td>-0.041058</td>\n",
       "      <td>...</td>\n",
       "      <td>-0.005294</td>\n",
       "      <td>0.077120</td>\n",
       "      <td>0.035425</td>\n",
       "      <td>0.016384</td>\n",
       "      <td>0.008833</td>\n",
       "      <td>-0.002611</td>\n",
       "      <td>0.006786</td>\n",
       "      <td>0.009639</td>\n",
       "      <td>0.003939</td>\n",
       "      <td>-0.002073</td>\n",
       "    </tr>\n",
       "    <tr>\n",
       "      <td>age</td>\n",
       "      <td>-0.003908</td>\n",
       "      <td>0.012594</td>\n",
       "      <td>-0.006385</td>\n",
       "      <td>0.086668</td>\n",
       "      <td>1.000000</td>\n",
       "      <td>-0.004323</td>\n",
       "      <td>0.061074</td>\n",
       "      <td>0.068032</td>\n",
       "      <td>0.001321</td>\n",
       "      <td>0.009129</td>\n",
       "      <td>...</td>\n",
       "      <td>-0.002194</td>\n",
       "      <td>-0.010021</td>\n",
       "      <td>0.001193</td>\n",
       "      <td>-0.004189</td>\n",
       "      <td>-0.003514</td>\n",
       "      <td>-0.003658</td>\n",
       "      <td>-0.002169</td>\n",
       "      <td>-0.001764</td>\n",
       "      <td>-0.001195</td>\n",
       "      <td>-0.004534</td>\n",
       "    </tr>\n",
       "  </tbody>\n",
       "</table>\n",
       "<p>5 rows × 30 columns</p>\n",
       "</div>"
      ],
      "text/plain": [
       "                     geo_level_1_id  geo_level_2_id  geo_level_3_id  \\\n",
       "geo_level_1_id             1.000000       -0.061405        0.002718   \n",
       "geo_level_2_id            -0.061405        1.000000        0.000921   \n",
       "geo_level_3_id             0.002718        0.000921        1.000000   \n",
       "count_floors_pre_eq       -0.089364        0.047730       -0.021646   \n",
       "age                       -0.003908        0.012594       -0.006385   \n",
       "\n",
       "                     count_floors_pre_eq       age  area_percentage  \\\n",
       "geo_level_1_id                 -0.089364 -0.003908         0.071158   \n",
       "geo_level_2_id                  0.047730  0.012594        -0.049443   \n",
       "geo_level_3_id                 -0.021646 -0.006385        -0.005643   \n",
       "count_floors_pre_eq             1.000000  0.086668         0.101071   \n",
       "age                             0.086668  1.000000        -0.004323   \n",
       "\n",
       "                     height_percentage  has_superstructure_adobe_mud  \\\n",
       "geo_level_1_id               -0.063474                     -0.018245   \n",
       "geo_level_2_id                0.035516                      0.015833   \n",
       "geo_level_3_id               -0.024507                     -0.015732   \n",
       "count_floors_pre_eq           0.772734                      0.174852   \n",
       "age                           0.061074                      0.068032   \n",
       "\n",
       "                     has_superstructure_mud_mortar_stone  \\\n",
       "geo_level_1_id                                 -0.152038   \n",
       "geo_level_2_id                                  0.076491   \n",
       "geo_level_3_id                                  0.026294   \n",
       "count_floors_pre_eq                            -0.027116   \n",
       "age                                             0.001321   \n",
       "\n",
       "                     has_superstructure_stone_flag  ...  \\\n",
       "geo_level_1_id                            0.007677  ...   \n",
       "geo_level_2_id                           -0.008743  ...   \n",
       "geo_level_3_id                            0.019579  ...   \n",
       "count_floors_pre_eq                      -0.041058  ...   \n",
       "age                                       0.009129  ...   \n",
       "\n",
       "                     has_secondary_use_agriculture  has_secondary_use_hotel  \\\n",
       "geo_level_1_id                           -0.019786                 0.001911   \n",
       "geo_level_2_id                            0.017522                -0.008439   \n",
       "geo_level_3_id                            0.015995                -0.002001   \n",
       "count_floors_pre_eq                      -0.005294                 0.077120   \n",
       "age                                      -0.002194                -0.010021   \n",
       "\n",
       "                     has_secondary_use_rental  has_secondary_use_institution  \\\n",
       "geo_level_1_id                       0.023523                       0.003700   \n",
       "geo_level_2_id                      -0.030704                      -0.004840   \n",
       "geo_level_3_id                      -0.007356                      -0.007058   \n",
       "count_floors_pre_eq                  0.035425                       0.016384   \n",
       "age                                  0.001193                      -0.004189   \n",
       "\n",
       "                     has_secondary_use_school  has_secondary_use_industry  \\\n",
       "geo_level_1_id                       0.002977                    0.002655   \n",
       "geo_level_2_id                      -0.004856                    0.000687   \n",
       "geo_level_3_id                      -0.004373                   -0.000862   \n",
       "count_floors_pre_eq                  0.008833                   -0.002611   \n",
       "age                                 -0.003514                   -0.003658   \n",
       "\n",
       "                     has_secondary_use_health_post  \\\n",
       "geo_level_1_id                           -0.002303   \n",
       "geo_level_2_id                           -0.000757   \n",
       "geo_level_3_id                           -0.002632   \n",
       "count_floors_pre_eq                       0.006786   \n",
       "age                                      -0.002169   \n",
       "\n",
       "                     has_secondary_use_gov_office  \\\n",
       "geo_level_1_id                           0.001060   \n",
       "geo_level_2_id                          -0.000152   \n",
       "geo_level_3_id                          -0.000943   \n",
       "count_floors_pre_eq                      0.009639   \n",
       "age                                     -0.001764   \n",
       "\n",
       "                     has_secondary_use_use_police  has_secondary_use_other  \n",
       "geo_level_1_id                           0.000523                -0.017992  \n",
       "geo_level_2_id                           0.001926                -0.013068  \n",
       "geo_level_3_id                           0.000269                -0.002463  \n",
       "count_floors_pre_eq                      0.003939                -0.002073  \n",
       "age                                     -0.001195                -0.004534  \n",
       "\n",
       "[5 rows x 30 columns]"
      ]
     },
     "execution_count": 3,
     "metadata": {},
     "output_type": "execute_result"
    }
   ],
   "source": [
    "print('Correlation Matrix' )\n",
    "features.corr().head()"
   ]
  },
  {
   "cell_type": "code",
   "execution_count": 4,
   "metadata": {},
   "outputs": [],
   "source": [
    "# (features.describe)"
   ]
  },
  {
   "cell_type": "markdown",
   "metadata": {},
   "source": [
    "## Data Exploration"
   ]
  },
  {
   "cell_type": "code",
   "execution_count": 5,
   "metadata": {},
   "outputs": [
    {
     "data": {
      "text/plain": [
       "<seaborn.axisgrid.PairGrid at 0x24ebdd75f88>"
      ]
     },
     "execution_count": 5,
     "metadata": {},
     "output_type": "execute_result"
    },
    {
     "data": {
      "image/png": "[encoded data removed]",
      "text/plain": [
       "<Figure size 617.55x540 with 12 Axes>"
      ]
     },
     "metadata": {},
     "output_type": "display_data"
    }
   ],
   "source": [
    "#standard imports for plotting\n",
    "%matplotlib inline\n",
    "import matplotlib.pyplot as plt\n",
    "import seaborn as sns; sns.set() #plot styling\n",
    "\n",
    "#select features to pairplot\n",
    "selected = ['height_percentage',\n",
    "            'area_percentage',\n",
    "            'age']\n",
    "\n",
    "#pair-plot selected variables and color by 'damage_grade' \n",
    "#the target variable needs to be cast as categorical, dtype int will not work\n",
    "sns.pairplot(features.join(target.astype('category')), hue = 'damage_grade',vars = selected)"
   ]
  },
  {
   "cell_type": "code",
   "execution_count": 6,
   "metadata": {},
   "outputs": [
    {
     "data": {
      "text/plain": [
       "damage_grade  geo_level_1_id\n",
       "1             26                8028\n",
       "              20                3311\n",
       "              6                 2108\n",
       "              13                1966\n",
       "              10                1211\n",
       "                                ... \n",
       "3             5                  230\n",
       "              24                 132\n",
       "              28                 108\n",
       "              19                  66\n",
       "              29                  39\n",
       "Name: geo_level_1_id, Length: 92, dtype: int64"
      ]
     },
     "execution_count": 6,
     "metadata": {},
     "output_type": "execute_result"
    }
   ],
   "source": [
    "pd.DataFrame(features.join(target)).groupby('damage_grade')['geo_level_1_id'].value_counts()"
   ]
  },
  {
   "cell_type": "code",
   "execution_count": 7,
   "metadata": {},
   "outputs": [
    {
     "data": {
      "text/plain": [
       "damage_grade  foundation_type\n",
       "1             r                   10720\n",
       "              i                    6004\n",
       "              w                    4353\n",
       "              u                    3689\n",
       "              h                     358\n",
       "2             r                  125515\n",
       "              w                    9270\n",
       "              u                    8541\n",
       "              i                    4354\n",
       "              h                     579\n",
       "3             r                   82961\n",
       "              u                    2030\n",
       "              w                    1495\n",
       "              h                     511\n",
       "              i                     221\n",
       "Name: foundation_type, dtype: int64"
      ]
     },
     "execution_count": 7,
     "metadata": {},
     "output_type": "execute_result"
    }
   ],
   "source": [
    "features.join(target).groupby('damage_grade')['foundation_type'].value_counts()"
   ]
  },
  {
   "cell_type": "markdown",
   "metadata": {},
   "source": [
    "## Feature Engineering\n",
    "First step is to preprocess the original dataset. This usually means handling outliers, handling missing values, etc. Looking at the summary info of the feature and target variables, we know we don't have missing values in our dataset. All of our features are either categorical or continuous within a given defined range, so outliers are not an issue. We might however want to select a subset of features, or we might want to engineer some of the features, for instance, by scaling the values of a given feature or adding a feature that is derived from others. We will do some preprocessing and feature engineering next and construct the design matrix from the original traning set."
   ]
  },
  {
   "cell_type": "code",
   "execution_count": 38,
   "metadata": {},
   "outputs": [
    {
     "data": {
      "text/html": [
       "<div>\n",
       "<style scoped>\n",
       "    .dataframe tbody tr th:only-of-type {\n",
       "        vertical-align: middle;\n",
       "    }\n",
       "\n",
       "    .dataframe tbody tr th {\n",
       "        vertical-align: top;\n",
       "    }\n",
       "\n",
       "    .dataframe thead th {\n",
       "        text-align: right;\n",
       "    }\n",
       "</style>\n",
       "<table border=\"1\" class=\"dataframe\">\n",
       "  <thead>\n",
       "    <tr style=\"text-align: right;\">\n",
       "      <th></th>\n",
       "      <th>geo_level_1_id</th>\n",
       "      <th>geo_level_2_id</th>\n",
       "      <th>geo_level_3_id</th>\n",
       "      <th>count_floors_pre_eq</th>\n",
       "      <th>age</th>\n",
       "      <th>area_percentage</th>\n",
       "      <th>height_percentage</th>\n",
       "      <th>count_families</th>\n",
       "    </tr>\n",
       "    <tr>\n",
       "      <th>building_id</th>\n",
       "      <th></th>\n",
       "      <th></th>\n",
       "      <th></th>\n",
       "      <th></th>\n",
       "      <th></th>\n",
       "      <th></th>\n",
       "      <th></th>\n",
       "      <th></th>\n",
       "    </tr>\n",
       "  </thead>\n",
       "  <tbody>\n",
       "    <tr>\n",
       "      <td>802906</td>\n",
       "      <td>6</td>\n",
       "      <td>487</td>\n",
       "      <td>12198</td>\n",
       "      <td>2</td>\n",
       "      <td>30</td>\n",
       "      <td>6</td>\n",
       "      <td>5</td>\n",
       "      <td>1</td>\n",
       "    </tr>\n",
       "    <tr>\n",
       "      <td>28830</td>\n",
       "      <td>8</td>\n",
       "      <td>900</td>\n",
       "      <td>2812</td>\n",
       "      <td>2</td>\n",
       "      <td>10</td>\n",
       "      <td>8</td>\n",
       "      <td>7</td>\n",
       "      <td>1</td>\n",
       "    </tr>\n",
       "    <tr>\n",
       "      <td>94947</td>\n",
       "      <td>21</td>\n",
       "      <td>363</td>\n",
       "      <td>8973</td>\n",
       "      <td>2</td>\n",
       "      <td>10</td>\n",
       "      <td>5</td>\n",
       "      <td>5</td>\n",
       "      <td>1</td>\n",
       "    </tr>\n",
       "    <tr>\n",
       "      <td>590882</td>\n",
       "      <td>22</td>\n",
       "      <td>418</td>\n",
       "      <td>10694</td>\n",
       "      <td>2</td>\n",
       "      <td>10</td>\n",
       "      <td>6</td>\n",
       "      <td>5</td>\n",
       "      <td>1</td>\n",
       "    </tr>\n",
       "    <tr>\n",
       "      <td>201944</td>\n",
       "      <td>11</td>\n",
       "      <td>131</td>\n",
       "      <td>1488</td>\n",
       "      <td>3</td>\n",
       "      <td>30</td>\n",
       "      <td>8</td>\n",
       "      <td>9</td>\n",
       "      <td>1</td>\n",
       "    </tr>\n",
       "    <tr>\n",
       "      <td>...</td>\n",
       "      <td>...</td>\n",
       "      <td>...</td>\n",
       "      <td>...</td>\n",
       "      <td>...</td>\n",
       "      <td>...</td>\n",
       "      <td>...</td>\n",
       "      <td>...</td>\n",
       "      <td>...</td>\n",
       "    </tr>\n",
       "    <tr>\n",
       "      <td>688636</td>\n",
       "      <td>25</td>\n",
       "      <td>1335</td>\n",
       "      <td>1621</td>\n",
       "      <td>1</td>\n",
       "      <td>55</td>\n",
       "      <td>6</td>\n",
       "      <td>3</td>\n",
       "      <td>1</td>\n",
       "    </tr>\n",
       "    <tr>\n",
       "      <td>669485</td>\n",
       "      <td>17</td>\n",
       "      <td>715</td>\n",
       "      <td>2060</td>\n",
       "      <td>2</td>\n",
       "      <td>0</td>\n",
       "      <td>6</td>\n",
       "      <td>5</td>\n",
       "      <td>1</td>\n",
       "    </tr>\n",
       "    <tr>\n",
       "      <td>602512</td>\n",
       "      <td>17</td>\n",
       "      <td>51</td>\n",
       "      <td>8163</td>\n",
       "      <td>3</td>\n",
       "      <td>55</td>\n",
       "      <td>6</td>\n",
       "      <td>7</td>\n",
       "      <td>1</td>\n",
       "    </tr>\n",
       "    <tr>\n",
       "      <td>151409</td>\n",
       "      <td>26</td>\n",
       "      <td>39</td>\n",
       "      <td>1851</td>\n",
       "      <td>2</td>\n",
       "      <td>10</td>\n",
       "      <td>14</td>\n",
       "      <td>6</td>\n",
       "      <td>1</td>\n",
       "    </tr>\n",
       "    <tr>\n",
       "      <td>747594</td>\n",
       "      <td>21</td>\n",
       "      <td>9</td>\n",
       "      <td>9101</td>\n",
       "      <td>3</td>\n",
       "      <td>10</td>\n",
       "      <td>7</td>\n",
       "      <td>6</td>\n",
       "      <td>3</td>\n",
       "    </tr>\n",
       "  </tbody>\n",
       "</table>\n",
       "<p>260601 rows × 8 columns</p>\n",
       "</div>"
      ],
      "text/plain": [
       "             geo_level_1_id  geo_level_2_id  geo_level_3_id  \\\n",
       "building_id                                                   \n",
       "802906                    6             487           12198   \n",
       "28830                     8             900            2812   \n",
       "94947                    21             363            8973   \n",
       "590882                   22             418           10694   \n",
       "201944                   11             131            1488   \n",
       "...                     ...             ...             ...   \n",
       "688636                   25            1335            1621   \n",
       "669485                   17             715            2060   \n",
       "602512                   17              51            8163   \n",
       "151409                   26              39            1851   \n",
       "747594                   21               9            9101   \n",
       "\n",
       "             count_floors_pre_eq  age  area_percentage  height_percentage  \\\n",
       "building_id                                                                 \n",
       "802906                         2   30                6                  5   \n",
       "28830                          2   10                8                  7   \n",
       "94947                          2   10                5                  5   \n",
       "590882                         2   10                6                  5   \n",
       "201944                         3   30                8                  9   \n",
       "...                          ...  ...              ...                ...   \n",
       "688636                         1   55                6                  3   \n",
       "669485                         2    0                6                  5   \n",
       "602512                         3   55                6                  7   \n",
       "151409                         2   10               14                  6   \n",
       "747594                         3   10                7                  6   \n",
       "\n",
       "             count_families  \n",
       "building_id                  \n",
       "802906                    1  \n",
       "28830                     1  \n",
       "94947                     1  \n",
       "590882                    1  \n",
       "201944                    1  \n",
       "...                     ...  \n",
       "688636                    1  \n",
       "669485                    1  \n",
       "602512                    1  \n",
       "151409                    1  \n",
       "747594                    3  \n",
       "\n",
       "[260601 rows x 8 columns]"
      ]
     },
     "execution_count": 38,
     "metadata": {},
     "output_type": "execute_result"
    }
   ],
   "source": [
    "from sklearn import preprocessing as pp\n",
    "con = [\n",
    "    'geo_level_1_id',\n",
    "           'geo_level_2_id', \n",
    "           'geo_level_3_id',\n",
    "           'count_floors_pre_eq',\n",
    "           'age',                 \n",
    "           'area_percentage',\n",
    "           'height_percentage',\n",
    "           'count_families'\n",
    "      ]\n",
    "\n",
    "\n",
    "X_con = features[con]\n",
    "X_con\n",
    "\n",
    "sc = pp.MinMaxScaler()\n",
    "\n",
    "\n",
    "X_con = sc.fit_transform(X_con)  \n",
    "X_con\n",
    "\n",
    "cat = [\n",
    "      'land_surface_condition', \n",
    "          'foundation_type', \n",
    "          'roof_type',                           \n",
    "           'ground_floor_type','geo_level_1_id',\n",
    "           'geo_level_2_id', \n",
    "           'geo_level_3_id', \n",
    "            'other_floor_type', \n",
    "            'position',     \n",
    "            'plan_configuration', \n",
    "            'has_superstructure_stone_flag',\n",
    "            'has_superstructure_mud_mortar_stone',\n",
    "            'has_superstructure_cement_mortar_stone',\n",
    "            'has_superstructure_adobe_mud',\n",
    "            'has_superstructure_mud_mortar_brick',\n",
    "            'has_superstructure_cement_mortar_brick',    \n",
    "            'has_superstructure_timber',\n",
    "            'has_superstructure_bamboo',\n",
    "            'has_superstructure_rc_non_engineered',\n",
    "            'has_superstructure_rc_engineered',\n",
    "            'has_superstructure_other',\n",
    "            'has_secondary_use'\n",
    "      ] \n",
    "\n",
    "X_cat = features[cat]\n",
    "X_cat = pd.get_dummies(X_cat, prefix_sep='_', drop_first=True)\n",
    "X_cat   \n",
    "\n",
    "# g = features['has_superstructure_adobe_mud'] | features['has_superstructure_mud_mortar_stone']|features['has_superstructure_mud_mortar_brick']\n",
    "# g=pd.get_dummies(g, prefix_sep='_', drop_first=True)\n",
    "# g\n",
    "\n",
    "# x = ['has_superstructure_adobe_mud',\n",
    "#          'has_superstructure_stone_flag',\n",
    "#          'has_superstructure_mud_mortar_brick',\n",
    "#          'has_superstructure_cement_mortar_brick',\n",
    "#          'has_superstructure_bamboo',\n",
    "#          'has_superstructure_rc_non_engineered',\n",
    "#          'has_secondary_use']      \n",
    "# X1 = features[x]\n",
    "# X1 = pd.get_dummies(X1, prefix_sep='_', drop_first=True)  \n",
    "# X1\n",
    "\n",
    "#X_con\n",
    "\n",
    "y = target['damage_grade']\n",
    "\n",
    "# mask1 = target['damage_grade'] ==1\n",
    "# mask1\n",
    "# y=mask1\n",
    "\n",
    "X = np.concatenate((X_con,X_cat), axis=1)\n",
    "# X.shape\n",
    "X[:1,:]\n",
    "# X_cat.head() "
   ]
  },
  {
   "cell_type": "code",
   "execution_count": 9,
   "metadata": {},
   "outputs": [
    {
     "data": {
      "text/plain": [
       "array([[8.66666667e-01, 2.73300631e-02, 7.26744649e-01, 2.50000000e-01,\n",
       "        5.02512563e-03, 1.81818182e-01, 2.33333333e-01, 3.33333333e-01,\n",
       "        2.60000000e+01, 3.90000000e+01, 9.13300000e+03, 0.00000000e+00,\n",
       "        0.00000000e+00, 0.00000000e+00, 0.00000000e+00, 0.00000000e+00,\n",
       "        0.00000000e+00, 0.00000000e+00, 0.00000000e+00, 0.00000000e+00,\n",
       "        1.00000000e+00, 0.00000000e+00, 0.00000000e+00, 0.00000000e+00,\n",
       "        1.00000000e+00, 1.00000000e+00, 0.00000000e+00, 0.00000000e+00,\n",
       "        0.00000000e+00, 0.00000000e+00, 1.00000000e+00, 0.00000000e+00,\n",
       "        1.00000000e+00, 0.00000000e+00, 0.00000000e+00, 0.00000000e+00,\n",
       "        1.00000000e+00, 0.00000000e+00, 0.00000000e+00, 0.00000000e+00,\n",
       "        0.00000000e+00, 0.00000000e+00, 1.00000000e+00, 0.00000000e+00,\n",
       "        0.00000000e+00, 0.00000000e+00, 0.00000000e+00, 0.00000000e+00,\n",
       "        0.00000000e+00, 0.00000000e+00]])"
      ]
     },
     "execution_count": 9,
     "metadata": {},
     "output_type": "execute_result"
    }
   ],
   "source": [
    "# do the local test-train split for cross-validation\n",
    "from sklearn.model_selection import train_test_split\n",
    "X_train, X_test, y_train, y_test = train_test_split(X, y, test_size=0.15, random_state=32)\n",
    "X_train[:1]"
   ]
  },
  {
   "cell_type": "markdown",
   "metadata": {},
   "source": [
    "## Baseline Model\n",
    "Now that we have produced our training set and test set, let's build a simple baseline model using Random Forest Classifier on the traning set using scikit learn's RandomForestClassifier  that can handle a target variable with multiple categories.  We test the model accuracy by f1_score by using scikit learn on the test set and  also print classification report by using scikit learn to see precision, recall,macro and weighted average."
   ]
  },
  {
   "cell_type": "code",
   "execution_count": 10,
   "metadata": {},
   "outputs": [
    {
     "data": {
      "text/plain": [
       "Pipeline(memory=None,\n",
       "         steps=[('randomforestclassifier',\n",
       "                 RandomForestClassifier(bootstrap=True, class_weight=None,\n",
       "                                        criterion='gini', max_depth=None,\n",
       "                                        max_features='auto',\n",
       "                                        max_leaf_nodes=None,\n",
       "                                        min_impurity_decrease=0.0,\n",
       "                                        min_impurity_split=None,\n",
       "                                        min_samples_leaf=1, min_samples_split=2,\n",
       "                                        min_weight_fraction_leaf=0.0,\n",
       "                                        n_estimators='warn', n_jobs=None,\n",
       "                                        oob_score=False, random_state=32,\n",
       "                                        verbose=0, warm_start=False))],\n",
       "         verbose=False)"
      ]
     },
     "execution_count": 10,
     "metadata": {},
     "output_type": "execute_result"
    }
   ],
   "source": [
    "#standard imports from sklearn\n",
    "from sklearn.ensemble import RandomForestClassifier\n",
    "from sklearn.pipeline import make_pipeline\n",
    "from sklearn.model_selection import GridSearchCV\n",
    "\n",
    "#make a pipeline\n",
    "pipeline = make_pipeline(RandomForestClassifier(random_state=32))\n",
    "pipeline"
   ]
  },
  {
   "cell_type": "code",
   "execution_count": 11,
   "metadata": {},
   "outputs": [
    {
     "data": {
      "text/plain": [
       "GridSearchCV(cv=8, error_score='raise-deprecating',\n",
       "             estimator=Pipeline(memory=None,\n",
       "                                steps=[('randomforestclassifier',\n",
       "                                        RandomForestClassifier(bootstrap=True,\n",
       "                                                               class_weight=None,\n",
       "                                                               criterion='gini',\n",
       "                                                               max_depth=None,\n",
       "                                                               max_features='auto',\n",
       "                                                               max_leaf_nodes=None,\n",
       "                                                               min_impurity_decrease=0.0,\n",
       "                                                               min_impurity_split=None,\n",
       "                                                               min_samples_leaf=1,\n",
       "                                                               min_samples_split=2,\n",
       "                                                               min_weight_fraction_leaf=0.0,\n",
       "                                                               n_estimators='warn',\n",
       "                                                               n_jobs=None,\n",
       "                                                               oob_score=False,\n",
       "                                                               random_state=32,\n",
       "                                                               verbose=0,\n",
       "                                                               warm_start=False))],\n",
       "                                verbose=False),\n",
       "             iid='warn', n_jobs=None,\n",
       "             param_grid={'randomforestclassifier__min_samples_leaf': [3],\n",
       "                         'randomforestclassifier__n_estimators': [10]},\n",
       "             pre_dispatch='2*n_jobs', refit=True, return_train_score=False,\n",
       "             scoring=None, verbose=0)"
      ]
     },
     "execution_count": 11,
     "metadata": {},
     "output_type": "execute_result"
    }
   ],
   "source": [
    "#construct parameter grid\n",
    "param_grid = {'randomforestclassifier__n_estimators': [10],\n",
    "              'randomforestclassifier__min_samples_leaf': [3]}\n",
    "gs = GridSearchCV(pipeline, param_grid, cv=8)\n",
    "gs.fit(X_train, y_train)"
   ]
  },
  {
   "cell_type": "code",
   "execution_count": 12,
   "metadata": {},
   "outputs": [
    {
     "name": "stdout",
     "output_type": "stream",
     "text": [
      "{'randomforestclassifier__min_samples_leaf': 3, 'randomforestclassifier__n_estimators': 10}\n",
      "f1 score: 0.7299890000255813\n"
     ]
    }
   ],
   "source": [
    "#print f-1 score using the best model\n",
    "#get the test data and generate predictions\n",
    "from sklearn.metrics import accuracy_score, f1_score \n",
    "y_pred = gs.predict(X_test)\n",
    "print(gs.best_params_)\n",
    "f1 = f1_score(y_test, y_pred, average ='micro')\n",
    "print(f'f1 score: {f1}')\n"
   ]
  },
  {
   "cell_type": "code",
   "execution_count": 13,
   "metadata": {},
   "outputs": [
    {
     "name": "stdout",
     "output_type": "stream",
     "text": [
      "[[ 1732  2047    62]\n",
      " [  722 18769  2595]\n",
      " [   78  5051  8035]]\n",
      "              precision    recall  f1-score   support\n",
      "\n",
      "           1       0.68      0.45      0.54      3841\n",
      "           2       0.73      0.85      0.78     22086\n",
      "           3       0.75      0.61      0.67     13164\n",
      "\n",
      "    accuracy                           0.73     39091\n",
      "   macro avg       0.72      0.64      0.67     39091\n",
      "weighted avg       0.73      0.73      0.72     39091\n",
      "\n"
     ]
    }
   ],
   "source": [
    "from sklearn.metrics import classification_report, confusion_matrix\n",
    "print(confusion_matrix(y_test,y_pred))\n",
    "print(classification_report(y_test,y_pred))"
   ]
  },
  {
   "cell_type": "code",
   "execution_count": 14,
   "metadata": {},
   "outputs": [
    {
     "data": {
      "image/png": "[encoded data removed]",
      "text/plain": [
       "<Figure size 432x288 with 1 Axes>"
      ]
     },
     "metadata": {},
     "output_type": "display_data"
    }
   ],
   "source": [
    "from sklearn.metrics import confusion_matrix\n",
    "mat = confusion_matrix(y_test, y_pred)\n",
    "sns.heatmap(mat.T, square=True, annot=True, fmt='d', cbar=False,\n",
    "            xticklabels=[1,2,3],\n",
    "            yticklabels=[3,2,1])\n",
    "plt.xlabel('true label')\n",
    "plt.ylabel('predicted label');"
   ]
  },
  {
   "cell_type": "code",
   "execution_count": 15,
   "metadata": {},
   "outputs": [],
   "source": [
    "# from sklearn.svm import SVC\n",
    "# from sklearn.metrics import accuracy_score\n",
    "\n",
    "# clf = SVC(kernel='linear')\n",
    "# clf.fit(X_train,y_train)\n",
    "# y_pred = clf.predict(x_test)\n",
    "\n",
    "# y_pred\n",
    "# print(accuracy_score(y_test,y_pred))"
   ]
  },
  {
   "cell_type": "markdown",
   "metadata": {},
   "source": [
    "## KNN Classifier\n",
    "We used KNN classifier on the traning set using scikit learn's RandomForestClassifier that can handle a target variable with multiple categories. We found that model accuracy go down when we use KNN Classifier\n",
    "#Under everthing same\n",
    "1. f1 score when we use Random Forest Classifier----f1 score: 0.7299890000255813\n",
    "2. f1 score when we use KNN Classifier----------------f1 score: 0.7154588012586017--"
   ]
  },
  {
   "cell_type": "code",
   "execution_count": 16,
   "metadata": {},
   "outputs": [
    {
     "data": {
      "text/plain": [
       "KNeighborsClassifier(algorithm='auto', leaf_size=30, metric='minkowski',\n",
       "                     metric_params=None, n_jobs=None, n_neighbors=5, p=2,\n",
       "                     weights='uniform')"
      ]
     },
     "execution_count": 16,
     "metadata": {},
     "output_type": "execute_result"
    }
   ],
   "source": [
    "from sklearn.neighbors import KNeighborsClassifier\n",
    "KNN = KNeighborsClassifier(n_neighbors=5)\n",
    "KNN.fit(X_train, y_train)"
   ]
  },
  {
   "cell_type": "code",
   "execution_count": 30,
   "metadata": {},
   "outputs": [
    {
     "name": "stdout",
     "output_type": "stream",
     "text": [
      "f1 score: 0.7192960016372055\n"
     ]
    }
   ],
   "source": [
    "\n",
    "y_pred = KNN.predict(X_test)\n",
    "\n",
    "\n",
    "\n",
    "from sklearn.metrics import accuracy_score, f1_score \n",
    "f1 = f1_score(y_test, y_pred, average ='micro')\n",
    "print(f'f1 score: {f1}')"
   ]
  },
  {
   "cell_type": "code",
   "execution_count": 18,
   "metadata": {},
   "outputs": [
    {
     "name": "stdout",
     "output_type": "stream",
     "text": [
      "[[ 2012  1690   139]\n",
      " [ 1131 17464  3491]\n",
      " [  148  4374  8642]]\n",
      "              precision    recall  f1-score   support\n",
      "\n",
      "           1       0.61      0.52      0.56      3841\n",
      "           2       0.74      0.79      0.77     22086\n",
      "           3       0.70      0.66      0.68     13164\n",
      "\n",
      "    accuracy                           0.72     39091\n",
      "   macro avg       0.69      0.66      0.67     39091\n",
      "weighted avg       0.72      0.72      0.72     39091\n",
      "\n"
     ]
    }
   ],
   "source": [
    "from sklearn.metrics import classification_report, confusion_matrix\n",
    "print(confusion_matrix(y_test, y_pred))\n",
    "print(classification_report(y_test, y_pred))\n"
   ]
  },
  {
   "cell_type": "code",
   "execution_count": 26,
   "metadata": {},
   "outputs": [
    {
     "data": {
      "image/png": "[encoded data removed]",
      "text/plain": [
       "<Figure size 432x288 with 1 Axes>"
      ]
     },
     "metadata": {},
     "output_type": "display_data"
    }
   ],
   "source": [
    "# standard imports\n",
    "%matplotlib inline\n",
    "import matplotlib.pyplot as plt\n",
    "import seaborn as sns; sns.set()\n",
    "from sklearn.naive_bayes import MultinomialNB\n",
    "from sklearn.model_selection import validation_curve\n",
    "from sklearn.metrics import accuracy_score, f1_score \n",
    "\n",
    "#initialize model and set model parameters\n",
    "model = MultinomialNB()\n",
    "alpha = np.linspace(0.1,2,10)\n",
    "k = 6\n",
    "\n",
    "#get training and validation score \n",
    "train_score, val_score = validation_curve(model, X_train, y_train,\n",
    "                                      'alpha', alpha, cv=k)\n",
    "\n",
    "\n",
    "#plot the results\n",
    "fig = plt.figure()\n",
    "ax=fig.add_subplot(1,1,1)\n",
    "ax.set_title('cross-validation')\n",
    "ax.plot(alpha, np.mean(train_score, 1), \n",
    "        color='blue', label='training score')\n",
    "ax.plot(alpha, np.mean(val_score, 1), \n",
    "        color='red', label='validation score')\n",
    "ax.legend(loc='best')\n",
    "ax.set_ylim(0, 1)\n",
    "ax.set_xlabel('alpha')\n",
    "ax.set_ylabel('score')\n",
    "#fig.set_size_inches(10, 10.5)\n",
    "plt.show()"
   ]
  },
  {
   "cell_type": "code",
   "execution_count": 27,
   "metadata": {},
   "outputs": [
    {
     "data": {
      "text/plain": [
       "0.271410826943482"
      ]
     },
     "execution_count": 27,
     "metadata": {},
     "output_type": "execute_result"
    }
   ],
   "source": [
    "np.mean(val_score)"
   ]
  },
  {
   "cell_type": "code",
   "execution_count": null,
   "metadata": {},
   "outputs": [],
   "source": []
  }
 ],
 "metadata": {
  "kernelspec": {
   "display_name": "Python 3",
   "language": "python",
   "name": "python3"
  },
  "language_info": {
   "codemirror_mode": {
    "name": "ipython",
    "version": 3
   },
   "file_extension": ".py",
   "mimetype": "text/x-python",
   "name": "python",
   "nbconvert_exporter": "python",
   "pygments_lexer": "ipython3",
   "version": "3.7.4"
  }
 },
 "nbformat": 4,
 "nbformat_minor": 2
}
